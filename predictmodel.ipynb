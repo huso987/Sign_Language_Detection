{
 "cells": [
  {
   "cell_type": "code",
   "execution_count": 10,
   "id": "12f97f4c-5d93-4e3a-9fac-130b1d5bf5e2",
   "metadata": {},
   "outputs": [
    {
     "name": "stdout",
     "output_type": "stream",
     "text": [
      "1/1 [==============================] - 0s 199ms/step\n",
      "Tahmin Edilen Harf: R\n"
     ]
    }
   ],
   "source": [
    "from tensorflow.keras.models import load_model\n",
    "from tensorflow.keras.preprocessing import image\n",
    "import numpy as np\n",
    "\n",
    "# Eğitilmiş Modeli Yükleme\n",
    "model = load_model(\"model4.h5\")\n",
    "\n",
    "# Test İçin Bir Resim Yolu\n",
    "test_resim_yolu = \"Images/M/M (8).png\"  # Değiştirebilirsiniz\n",
    "\n",
    "# Resmi Yükleyip Boyutlandırma\n",
    "resim = image.load_img(test_resim_yolu, target_size=(64, 64))\n",
    "resim_array = image.img_to_array(resim)\n",
    "resim_array = np.expand_dims(resim_array, axis=0)\n",
    "\n",
    "# Tahmin Yapma\n",
    "tahminler = model.predict(resim_array)\n",
    "etiket = np.argmax(tahminler)\n",
    "\n",
    "# Tahmin Sonucunu Yazdırma\n",
    "print(\"Tahmin Edilen Harf:\", chr(ord(\"A\") + etiket))"
   ]
  },
  {
   "cell_type": "code",
   "execution_count": 11,
   "id": "61fb4653-85ce-486c-8dae-f53681b5ec0b",
   "metadata": {},
   "outputs": [
    {
     "name": "stdout",
     "output_type": "stream",
     "text": [
      "1/1 [==============================] - 0s 203ms/step\n",
      "Tahmin Edilen Harf: F\n"
     ]
    }
   ],
   "source": [
    "from tensorflow.keras.models import load_model\n",
    "from tensorflow.keras.preprocessing import image\n",
    "from tensorflow.keras.applications.inception_v3 import preprocess_input\n",
    "import numpy as np\n",
    "\n",
    "# Eğitilmiş Modeli Yükleme\n",
    "model = load_model(\"adam.h5\")\n",
    "\n",
    "# Test İçin Bir Resim Yolu\n",
    "test_resim_yolu = \"Images/M/M (8).png\"  # Değiştirebilirsiniz\n",
    "\n",
    "# Resmi Yükleyip Boyutlandırma ve Ön İşleme\n",
    "resim = image.load_img(test_resim_yolu, target_size=(64, 64))\n",
    "resim_array = image.img_to_array(resim)\n",
    "resim_array = np.expand_dims(resim_array, axis=0)\n",
    "resim_array = preprocess_input(resim_array)  # Ön işleme\n",
    "\n",
    "# Tahmin Yapma\n",
    "tahminler = model.predict(resim_array)\n",
    "etiket = np.argmax(tahminler)\n",
    "\n",
    "# Tahmin Sonucunu Yazdırma\n",
    "print(\"Tahmin Edilen Harf:\", chr(ord(\"A\") + etiket))\n"
   ]
  },
  {
   "cell_type": "code",
   "execution_count": 12,
   "id": "4a305ac1-b59e-481e-8f7f-82329821286f",
   "metadata": {},
   "outputs": [
    {
     "name": "stdout",
     "output_type": "stream",
     "text": [
      "1/1 [==============================] - 0s 200ms/step\n",
      "Tahmin Edilen Harf: F\n"
     ]
    }
   ],
   "source": [
    "from tensorflow.keras.models import load_model\n",
    "from tensorflow.keras.preprocessing import image\n",
    "import numpy as np\n",
    "\n",
    "# Eğitilmiş Modeli Yükleme\n",
    "model = load_model(\"adam.h5\")\n",
    "\n",
    "# Test İçin Bir Resim Yolu\n",
    "test_resim_yolu = \"Images/A/A (8).png\"  # Değiştirebilirsiniz\n",
    "\n",
    "# Resmi Yükleyip Boyutlandırma ve Normalleştirme\n",
    "resim = image.load_img(test_resim_yolu, target_size=(64, 64))\n",
    "resim_array = image.img_to_array(resim)\n",
    "resim_array = resim_array / 255.0  # Normalleştirme\n",
    "resim_array = np.expand_dims(resim_array, axis=0)\n",
    "\n",
    "# Tahmin Yapma\n",
    "tahminler = model.predict(resim_array)\n",
    "etiket = np.argmax(tahminler)\n",
    "\n",
    "# \"!\" işaretini ele alarak Tahmin Sonucunu Yazdırma\n",
    "etiket_harf = chr(ord(\"A\") + etiket) if etiket < 26 else \"!\" + chr(ord(\"A\") + (etiket - 26))\n",
    "print(\"Tahmin Edilen Harf:\", etiket_harf)\n"
   ]
  }
 ],
 "metadata": {
  "kernelspec": {
   "display_name": "Python 3 (ipykernel)",
   "language": "python",
   "name": "python3"
  },
  "language_info": {
   "codemirror_mode": {
    "name": "ipython",
    "version": 3
   },
   "file_extension": ".py",
   "mimetype": "text/x-python",
   "name": "python",
   "nbconvert_exporter": "python",
   "pygments_lexer": "ipython3",
   "version": "3.10.12"
  }
 },
 "nbformat": 4,
 "nbformat_minor": 5
}
